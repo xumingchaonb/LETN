{
 "cells": [
  {
   "cell_type": "markdown",
   "id": "51ba79f2",
   "metadata": {},
   "source": [
    "# Привет!\n",
    "\n",
    "Перед началом прохождения убедитесь, что все настроено как надо. Следующая ячейка должна выполниться без ошибок:"
   ]
  },
  {
   "cell_type": "markdown",
   "id": "6a8428ea",
   "metadata": {},
   "source": [
    "После прохождения не забудьте **перезапустить ядро** (**restart the kernel**) (в панели меню выберите Kernel $\\rightarrow$ Restart) и затем **запуск всех ячеек** (**run all cells**) (в панели меню выберите Cell $\\rightarrow$ Run All).\n",
    "\n",
    "Убедитесь, что заменили все такие места \n",
    "```python\n",
    "# YOUR CODE HERE\n",
    "raise NotImplementedError()\n",
    "```\n",
    "и\n",
    "```\n",
    "\"YOUR ANSWER HERE\"\n",
    "```\n",
    "на свои решения и ответы.\n",
    "\n",
    "Если не установлены какие-то пакеты, то посмотрите нужные версии в ноутбуках по регрессии.\n",
    "\n",
    "Не забывайте о следующих особенностях:\n",
    "- 😉 Помимо указанных тестов после задания существуют и скрытые тесты, поэтому внимательнее читайте задание\n",
    "- 😎 Обязательно проверяйте выполнимость на тестах, для проверки перезапустите ядро и запустите все ячейки заново\n",
    "- 😂 После скачивания ноутбуков достаточно заполнить места для ответов и отправить ноутбук обратно (сам ноутбук, не в архиве и не на GitHub)\n",
    "- 😈 Не рекомендуем удалять исходные ячейки, так как из-за этого могут не начислиться баллы =(\n",
    "  - 👼 Если таки такое случилось, скачайте заново шаблон и перенесите в него свои решения"
   ]
  },
  {
   "cell_type": "markdown",
   "id": "d7f6b4d1",
   "metadata": {},
   "source": [
    "---"
   ]
  },
  {
   "cell_type": "markdown",
   "id": "1e47d973",
   "metadata": {
    "deletable": false,
    "editable": false,
    "nbgrader": {
     "cell_type": "markdown",
     "checksum": "037c897e7ae52a2adc17247bf70cf1ce",
     "grade": false,
     "grade_id": "cell-a157936eae072003",
     "locked": true,
     "schema_version": 3,
     "solution": false,
     "task": false
    }
   },
   "source": [
    "Это вторая контрольная работа с некоторыми вопросами по теме задачи регрессии в машинном обучении!"
   ]
  },
  {
   "cell_type": "code",
   "execution_count": 2,
   "id": "a063164d",
   "metadata": {
    "deletable": false,
    "editable": false,
    "nbgrader": {
     "cell_type": "code",
     "checksum": "e29e38031e6be94bc55218ebbd24173f",
     "grade": false,
     "grade_id": "cell-ea81f8cd8198e0b2",
     "locked": true,
     "schema_version": 3,
     "solution": false,
     "task": false
    }
   },
   "outputs": [
    {
     "ename": "ModuleNotFoundError",
     "evalue": "No module named 'numpy'",
     "output_type": "error",
     "traceback": [
      "\u001b[1;31m---------------------------------------------------------------------------\u001b[0m",
      "\u001b[1;31mModuleNotFoundError\u001b[0m                       Traceback (most recent call last)",
      "Cell \u001b[1;32mIn [2], line 1\u001b[0m\n\u001b[1;32m----> 1\u001b[0m \u001b[39mimport\u001b[39;00m \u001b[39mnumpy\u001b[39;00m \u001b[39mas\u001b[39;00m \u001b[39mnp\u001b[39;00m\n\u001b[0;32m      2\u001b[0m \u001b[39mprint\u001b[39m(\u001b[39mf\u001b[39m\u001b[39m\"\u001b[39m\u001b[39mnumpy version: \u001b[39m\u001b[39m{\u001b[39;00mnp\u001b[39m.\u001b[39m__version__\u001b[39m}\u001b[39;00m\u001b[39m\"\u001b[39m)\n\u001b[0;32m      3\u001b[0m \u001b[39mimport\u001b[39;00m \u001b[39mpandas\u001b[39;00m \u001b[39mas\u001b[39;00m \u001b[39mpd\u001b[39;00m\n",
      "\u001b[1;31mModuleNotFoundError\u001b[0m: No module named 'numpy'"
     ]
    }
   ],
   "source": [
    "import numpy as np\n",
    "print(f\"numpy version: {np.__version__}\")\n",
    "import pandas as pd\n",
    "print(f\"pandas version: {pd.__version__}\")\n",
    "# Just to check that it exists\n",
    "import sklearn\n",
    "print(f\"scikit-learn version: {sklearn.__version__}\")\n",
    "\n",
    "from typing import Tuple, List\n",
    "\n",
    "np.random.seed(123)"
   ]
  },
  {
   "cell_type": "markdown",
   "id": "dd7fa466",
   "metadata": {
    "deletable": false,
    "editable": false,
    "nbgrader": {
     "cell_type": "markdown",
     "checksum": "9bad05a1fa67e52f809c04eb6c522365",
     "grade": false,
     "grade_id": "cell-15c9325584b83940",
     "locked": true,
     "schema_version": 3,
     "solution": false,
     "task": false
    }
   },
   "source": [
    "### Задание 1\n",
    "\n",
    "Реализуйте функцию загрузки данных. В качестве результата необходимо вернуть tuple с DataFrame признаков и Series целевой переменной. Используйте [эту функцию](https://scikit-learn.org/stable/modules/generated/sklearn.datasets.load_diabetes.html) в качестве основы для загрузки датасета диабетов.\n",
    "\n",
    "> Это очень простая задача, но ее важно выполнить, так как она будет использоваться далее по тестам!"
   ]
  },
  {
   "cell_type": "code",
   "execution_count": null,
   "id": "3377bf31",
   "metadata": {
    "deletable": false,
    "nbgrader": {
     "cell_type": "code",
     "checksum": "1b964b03c507f5d1defb738609f632ca",
     "grade": false,
     "grade_id": "cell-327093fec6a96199",
     "locked": false,
     "schema_version": 3,
     "solution": true,
     "task": false
    }
   },
   "outputs": [],
   "source": [
    "def load_data() -> Tuple[pd.DataFrame, pd.Series]:\n",
    "    # YOUR CODE HERE\n",
    "    raise NotImplementedError()"
   ]
  },
  {
   "cell_type": "code",
   "execution_count": null,
   "id": "7243ab44",
   "metadata": {
    "deletable": false,
    "editable": false,
    "nbgrader": {
     "cell_type": "code",
     "checksum": "ea7287163448fe2038965ebc027c44e8",
     "grade": true,
     "grade_id": "cell-7e627329ed2ea656",
     "locked": true,
     "points": 1,
     "schema_version": 3,
     "solution": false,
     "task": false
    }
   },
   "outputs": [],
   "source": [
    "X, y = load_data()\n",
    "\n",
    "np.testing.assert_array_equal(X.shape, [442, 10])\n",
    "np.testing.assert_array_equal(y.shape, [442])\n",
    "\n",
    "assert isinstance(X, pd.DataFrame)\n",
    "assert isinstance(y, pd.Series)\n"
   ]
  },
  {
   "cell_type": "code",
   "execution_count": null,
   "id": "0bb95aea",
   "metadata": {},
   "outputs": [],
   "source": [
    "def load_data() -> Tuple[pd.DataFrame, pd.Series]:\n",
    "    # YOUR CODE HERE\n",
    "    data = pd.DataFrame(sklearn.datasets.load_diabetes().data, columns = sklearn.datasets.load_diabetes().feature_names)\n",
    "    target = pd.Series(sklearn.datasets.load_diabetes().target)\n",
    "    return (data,target)\n",
    "    raise NotImplementedError()"
   ]
  },
  {
   "cell_type": "markdown",
   "id": "e8481cc6",
   "metadata": {
    "deletable": false,
    "editable": false,
    "nbgrader": {
     "cell_type": "markdown",
     "checksum": "96be49d0df0614df2ae7e0b11aa3745b",
     "grade": false,
     "grade_id": "cell-cd2553f9a8f3b884",
     "locked": true,
     "schema_version": 3,
     "solution": false,
     "task": false
    }
   },
   "source": [
    "### Задание 2\n",
    "\n",
    "Реализуйте функцию поиска признаков в данных с корреляцией по Спирману выше порога относительно указанной переменной.\n",
    "\n",
    "Необходимо вернуть список имен переменных. Саму переменную необходимо исключить (так как корреляция относительно самого себя всегда = 1)."
   ]
  },
  {
   "cell_type": "code",
   "execution_count": null,
   "id": "d1222cd0",
   "metadata": {
    "deletable": false,
    "nbgrader": {
     "cell_type": "code",
     "checksum": "db0f149e343be450a678bc678d2bc316",
     "grade": false,
     "grade_id": "cell-7bd0359336964ee1",
     "locked": false,
     "schema_version": 3,
     "solution": true,
     "task": false
    }
   },
   "outputs": [],
   "source": [
    "def get_high_correlation_features(df: pd.DataFrame, col_name: str, threshold: float) -> List[str]:\n",
    "    # YOUR CODE HERE\n",
    "    raise NotImplementedError()"
   ]
  },
  {
   "cell_type": "code",
   "execution_count": null,
   "id": "eb1fde6d",
   "metadata": {
    "deletable": false,
    "editable": false,
    "nbgrader": {
     "cell_type": "code",
     "checksum": "465795194d29b871f0757f6e8e2c7fcf",
     "grade": true,
     "grade_id": "cell-136b84cd0900ad11",
     "locked": true,
     "points": 2,
     "schema_version": 3,
     "solution": false,
     "task": false
    }
   },
   "outputs": [],
   "source": [
    "X, y = load_data()\n",
    "df = X.copy()\n",
    "df['target'] = y\n",
    "\n",
    "_test_data = get_high_correlation_features(df, \"target\", threshold=0.35)\n",
    "np.testing.assert_equal(\n",
    "    _test_data, \n",
    "    np.array(['bmi', 'bp', 's3', 's4', 's5', 's6'])\n",
    ")\n"
   ]
  },
  {
   "cell_type": "code",
   "execution_count": null,
   "id": "04387865",
   "metadata": {},
   "outputs": [],
   "source": [
    "def get_high_correlation_features(df: pd.DataFrame, col_name: str, threshold: float) -> List[str]:\n",
    "    # YOUR CODE HERE\n",
    "    Cor = df.corr(method = 'spearman')\n",
    "    lst = list(Cor[Cor[col_name].apply(lambda x:abs(x)) >= threshold].index)\n",
    "    lst.remove(col_name)\n",
    "    return lst\n",
    "    raise NotImplementedError()"
   ]
  },
  {
   "cell_type": "markdown",
   "id": "0a6b4fcd",
   "metadata": {
    "deletable": false,
    "editable": false,
    "nbgrader": {
     "cell_type": "markdown",
     "checksum": "c6a861e043b44b88965172e59e92d771",
     "grade": false,
     "grade_id": "cell-4de8ba55b701b6a6",
     "locked": true,
     "schema_version": 3,
     "solution": false,
     "task": false
    }
   },
   "source": [
    "### Задание 3\n",
    "\n",
    "Реализуйте класс для предобработки данных. Предобработка должна включать в себя:\n",
    "- Определение 1го и 3го квартилей по указанному признаку и удаление данных за пределами квартилей по значениям признака. Удалить только данные больше 3го и меньше 1го квартилей (не равно).\n",
    "- Масштабирование признаков к пределам [-1; 2]\n",
    "- Управляемая чистка данных, подаваемых в transform\n",
    "\n",
    "> Обратите внимание, на каких данных должен учиться scaler и в каком порядке должны идти операции в transform()"
   ]
  },
  {
   "cell_type": "code",
   "execution_count": null,
   "id": "c91386a1",
   "metadata": {
    "deletable": false,
    "nbgrader": {
     "cell_type": "code",
     "checksum": "4aa2d73ba8b04a987539b5999a478d69",
     "grade": false,
     "grade_id": "cell-0da59aa4e9b3e30e",
     "locked": false,
     "schema_version": 3,
     "solution": true,
     "task": false
    }
   },
   "outputs": [],
   "source": [
    "class DataPreprocessing:\n",
    "    def __init__(self, quartile_clean_col_name: str):\n",
    "        # YOUR CODE HERE\n",
    "        raise NotImplementedError()\n",
    "        \n",
    "    def fit(self, X: pd.DataFrame) -> None:\n",
    "        # YOUR CODE HERE\n",
    "        raise NotImplementedError()\n",
    "        \n",
    "    def transform(self, X: pd.DataFrame, clean_data: bool = False) -> pd.DataFrame:\n",
    "        # YOUR CODE HERE\n",
    "        raise NotImplementedError()"
   ]
  },
  {
   "cell_type": "code",
   "execution_count": null,
   "id": "5e55dda2",
   "metadata": {
    "deletable": false,
    "editable": false,
    "nbgrader": {
     "cell_type": "code",
     "checksum": "edaeb2eefcc7d2f461ca7e95d4472a5d",
     "grade": true,
     "grade_id": "cell-9e66830003060afc",
     "locked": true,
     "points": 4,
     "schema_version": 3,
     "solution": false,
     "task": false
    }
   },
   "outputs": [],
   "source": [
    "X, y = load_data()\n",
    "\n",
    "_X_train_part = X.iloc[:350]\n",
    "_X_test_part = X.iloc[350:]\n",
    "\n",
    "preprocess = DataPreprocessing(quartile_clean_col_name='s2')\n",
    "preprocess.fit(_X_train_part)\n",
    "_X_test_prep = preprocess.transform(_X_test_part, clean_data=True)\n",
    "\n",
    "assert isinstance(_X_test_prep, pd.DataFrame)\n",
    "np.testing.assert_array_equal(_X_test_prep.shape, (44, 10))\n",
    "np.testing.assert_array_equal(_X_test_prep.columns, X.columns)\n",
    "assert 1.98 < _X_test_prep[\"s5\"].max() < 2\n",
    "assert _X_test_prep[\"s4\"].max() > 1\n",
    "\n",
    "np.testing.assert_almost_equal(_X_test_prep[\"bp\"].mean(), 0.384, decimal=2)\n",
    "\n",
    "# Check that index have to be saved from original data\n",
    "assert 440 < _X_test_prep.index.max() <= 450\n",
    "assert 350 <= _X_test_prep.index.min() < 360\n"
   ]
  },
  {
   "cell_type": "markdown",
   "id": "77ad6069",
   "metadata": {
    "deletable": false,
    "editable": false,
    "nbgrader": {
     "cell_type": "markdown",
     "checksum": "331c16d29340c722b5614d7f159cb5c9",
     "grade": false,
     "grade_id": "cell-f4e56816d00eb2d3",
     "locked": true,
     "schema_version": 3,
     "solution": false,
     "task": false
    }
   },
   "source": [
    "### Задание 4\n",
    "\n",
    "Реализуйте класс для обучения модели линейной регрессии с вычислением метрик. В метрики должны входить: MSE, RMSE, MAE, R^2."
   ]
  },
  {
   "cell_type": "code",
   "execution_count": null,
   "id": "37258376",
   "metadata": {
    "deletable": false,
    "nbgrader": {
     "cell_type": "code",
     "checksum": "717cf2be7d3e6de9821937005984c4ec",
     "grade": false,
     "grade_id": "cell-dfe13046beea8fba",
     "locked": false,
     "schema_version": 3,
     "solution": true,
     "task": false
    }
   },
   "outputs": [],
   "source": [
    "class ModelTrainWithMetrics:\n",
    "    def fit(self, X: pd.DataFrame, y: pd.Series) -> None:\n",
    "        # YOUR CODE HERE\n",
    "        raise NotImplementedError()\n",
    "        \n",
    "    def predict_evaluate(self, X: pd.DataFrame, y: pd.Series) -> Tuple[np.ndarray, dict]:\n",
    "        # YOUR CODE HERE\n",
    "        raise NotImplementedError()"
   ]
  },
  {
   "cell_type": "code",
   "execution_count": null,
   "id": "700711d3",
   "metadata": {
    "deletable": false,
    "editable": false,
    "nbgrader": {
     "cell_type": "code",
     "checksum": "8e56201b868ea5eee10d9f4ef0e6f928",
     "grade": true,
     "grade_id": "cell-c32a1f863b463294",
     "locked": true,
     "points": 3,
     "schema_version": 3,
     "solution": false,
     "task": false
    }
   },
   "outputs": [],
   "source": [
    "from sklearn.model_selection import train_test_split\n",
    "\n",
    "X, y = load_data()\n",
    "X_train, X_test, y_train, y_test = train_test_split(X, y, random_state=42, shuffle=True, test_size=0.3)\n",
    "\n",
    "model = ModelTrainWithMetrics()\n",
    "model.fit(X_train, y_train)\n",
    "y_test_pred, metrics = model.predict_evaluate(X_test, y_test)\n",
    "\n",
    "assert isinstance(metrics, dict)\n",
    "assert isinstance(y_test_pred, np.ndarray)\n",
    "np.testing.assert_equal(set(metrics.keys()), set(['mse', 'mae', 'rmse', 'r2']))\n",
    "\n",
    "assert metrics['r2'] > 0.45\n",
    "assert metrics['rmse'] < 55\n",
    "assert metrics['mae'] < 45\n"
   ]
  },
  {
   "cell_type": "code",
   "execution_count": null,
   "id": "4661b69d",
   "metadata": {},
   "outputs": [],
   "source": [
    "class ModelTrainWithMetrics:\n",
    "    def fit(self, X: pd.DataFrame, y: pd.Series) -> None:\n",
    "        from sklearn.linear_model import LinearRegression\n",
    "        # YOUR CODE HERE\n",
    "        self.X = X\n",
    "        self.y = y\n",
    "        mode = LinearRegression()\n",
    "        self.lr = mode.fit(X, y)\n",
    "        return\n",
    "        raise NotImplementedError()\n",
    "        \n",
    "    def predict_evaluate(self, X: pd.DataFrame, y: pd.Series) -> Tuple[np.ndarray, dict]:\n",
    "        # YOUR CODE HERE\n",
    "        from sklearn.metrics import r2_score, mean_squared_error, mean_absolute_error\n",
    "        fin = {}\n",
    "        y_pred = self.lr.predict(X)\n",
    "        fin['mse'] = sklearn.metrics.mean_squared_error(y, y_pred)\n",
    "        fin['mae'] = mean_absolute_error(y, y_pred)\n",
    "        fin['rmse'] = np.sqrt(mean_squared_error(y, y_pred))\n",
    "        fin['r2']= r2_score(y, y_pred)\n",
    "        return y_pred, fin\n",
    "        raise NotImplementedError()"
   ]
  },
  {
   "cell_type": "markdown",
   "id": "ab109727",
   "metadata": {
    "deletable": false,
    "editable": false,
    "nbgrader": {
     "cell_type": "markdown",
     "checksum": "f88583ce4dbadf7fdda9764ee47b9cec",
     "grade": false,
     "grade_id": "cell-8963be98c2d31921",
     "locked": true,
     "schema_version": 3,
     "solution": false,
     "task": false
    }
   },
   "source": [
    "### Задание 5\n",
    "\n",
    "Реализуйте функцию сбора статистики данных датасета по каждой числовой колонке.\n",
    "\n",
    "Формат выхода: колонки ~ показатели, строки ~ названия исходных колонок.\n",
    "\n",
    "Требуемые показатели:\n",
    "- Минимальное значение колонки\n",
    "- Максимальное значение колонки\n",
    "- Медианное значение колонки\n",
    "- Среднее значение колонки / Mean value\n",
    "- Стандартное (Среднеквадратическое) отклонение / Standart deviation\n",
    "- Первый квартиль\n",
    "- Третий квартиль\n",
    "- Интерквартильный размах (IQR ~ Interquartile range)"
   ]
  },
  {
   "cell_type": "code",
   "execution_count": null,
   "id": "6163b336",
   "metadata": {
    "deletable": false,
    "nbgrader": {
     "cell_type": "code",
     "checksum": "be165ac660534a1082304bc806111a82",
     "grade": false,
     "grade_id": "cell-20d8e9a92c0f2714",
     "locked": false,
     "schema_version": 3,
     "solution": true,
     "task": false
    }
   },
   "outputs": [],
   "source": [
    "def collect_statistics(df: pd.DataFrame) -> pd.DataFrame:\n",
    "    # YOUR CODE HERE\n",
    "    raise NotImplementedError()"
   ]
  },
  {
   "cell_type": "code",
   "execution_count": null,
   "id": "8fb8b704",
   "metadata": {
    "deletable": false,
    "editable": false,
    "nbgrader": {
     "cell_type": "code",
     "checksum": "56a0d00e03f858dace16dd28077e3b68",
     "grade": true,
     "grade_id": "cell-146d7f58a0e36598",
     "locked": true,
     "points": 2,
     "schema_version": 3,
     "solution": false,
     "task": false
    }
   },
   "outputs": [],
   "source": [
    "X, _ = load_data()\n",
    "\n",
    "stats = collect_statistics(X)\n",
    "\n",
    "np.testing.assert_equal(set(stats.index), set(['age', 'sex', 'bmi', 'bp', 's1', 's2', 's3', 's4', 's5', 's6']))\n",
    "np.testing.assert_equal(set(stats.columns), set(['min', 'max', 'median', 'mean', 'std', 'Q1', 'Q3', 'IQR']))\n",
    "\n",
    "np.testing.assert_almost_equal(stats.loc[['age', 'bmi'], 'mean'], [0, 0], decimal=2)\n",
    "np.testing.assert_almost_equal(stats.loc[['s3', 'bp'], 'std'], [0.048, 0.048], decimal=2)\n",
    "np.testing.assert_almost_equal(stats.loc[['s6', 's5'], 'min'], [-0.138, -0.126], decimal=2)\n",
    "np.testing.assert_almost_equal(stats.loc[['s1', 's2'], 'max'], [0.154, 0.199], decimal=2)\n"
   ]
  },
  {
   "cell_type": "code",
   "execution_count": null,
   "id": "7ad1d0f5",
   "metadata": {},
   "outputs": [],
   "source": [
    "def collect_statistics(df: pd.DataFrame) -> pd.DataFrame:\n",
    "    # YOUR CODE HERE\n",
    "    fin = pd.DataFrame([], index = df.columns)\n",
    "    fin['min'] = df.min()\n",
    "    fin['max'] = df.max()\n",
    "    fin['median'] = df.median()\n",
    "    fin['mean'] = df.mean()\n",
    "    fin['std'] = df.std()\n",
    "    fin['Q1'] = df.quantile(0.25)\n",
    "    fin['Q3'] = df.quantile(0.75)\n",
    "    fin['IQR'] = df.quantile(0.5) - df.quantile(0.25)\n",
    "    return fin\n",
    "    raise NotImplementedError()"
   ]
  }
 ],
 "metadata": {
  "kernelspec": {
   "display_name": "Python 3.10.8 64-bit",
   "language": "python",
   "name": "python3"
  },
  "language_info": {
   "codemirror_mode": {
    "name": "ipython",
    "version": 3
   },
   "file_extension": ".py",
   "mimetype": "text/x-python",
   "name": "python",
   "nbconvert_exporter": "python",
   "pygments_lexer": "ipython3",
   "version": "3.10.8"
  },
  "vscode": {
   "interpreter": {
    "hash": "78f5b707d86fd9281530b9fa2dbdbe1b33232c3b651a8e052360c651d4996094"
   }
  }
 },
 "nbformat": 4,
 "nbformat_minor": 5
}
