{
 "cells": [
  {
   "cell_type": "markdown",
   "id": "6fa1395c",
   "metadata": {},
   "source": [
    "# Привет!\n",
    "\n",
    "Перед началом прохождения убедитесь, что все настроено как надо. Следующая ячейка должна выполниться без ошибок:"
   ]
  },
  {
   "cell_type": "code",
   "execution_count": 1,
   "id": "8e1d0d9e",
   "metadata": {},
   "outputs": [
    {
     "name": "stdout",
     "output_type": "stream",
     "text": [
      "Are you ready?\n"
     ]
    },
    {
     "ename": "ModuleNotFoundError",
     "evalue": "No module named 'numpy'",
     "output_type": "error",
     "traceback": [
      "\u001b[1;31m---------------------------------------------------------------------------\u001b[0m",
      "\u001b[1;31mModuleNotFoundError\u001b[0m                       Traceback (most recent call last)",
      "Cell \u001b[1;32mIn [1], line 3\u001b[0m\n\u001b[0;32m      1\u001b[0m \u001b[39mprint\u001b[39m(\u001b[39m\"\u001b[39m\u001b[39mAre you ready?\u001b[39m\u001b[39m\"\u001b[39m)\n\u001b[1;32m----> 3\u001b[0m \u001b[39mimport\u001b[39;00m \u001b[39mnumpy\u001b[39;00m \u001b[39mas\u001b[39;00m \u001b[39mnp\u001b[39;00m\n\u001b[0;32m      5\u001b[0m \u001b[39mprint\u001b[39m(np\u001b[39m.\u001b[39m__version__)\n",
      "\u001b[1;31mModuleNotFoundError\u001b[0m: No module named 'numpy'"
     ]
    }
   ],
   "source": [
    "print(\"Are you ready?\")\n",
    "\n",
    "import numpy as np\n",
    "\n",
    "print(np.__version__)"
   ]
  },
  {
   "cell_type": "markdown",
   "id": "fce453e2",
   "metadata": {},
   "source": [
    "После прохождения не забудьте **перезапустить ядро** (**restart the kernel**) (в панели меню выберите Kernel $\\rightarrow$ Restart) и затем **запуск всех ячеек** (**run all cells**) (в панели меню выберите Cell $\\rightarrow$ Run All).\n",
    "\n",
    "Убедитесь, что заменили все такие места \n",
    "```python\n",
    "# YOUR CODE HERE\n",
    "raise NotImplementedError()\n",
    "```\n",
    "и\n",
    "```\n",
    "\"YOUR ANSWER HERE\"\n",
    "```\n",
    "на свои решения и ответы.\n",
    "\n",
    "Также, заполните свои данные (имя и группу):"
   ]
  },
  {
   "cell_type": "code",
   "execution_count": null,
   "id": "0ab3633b",
   "metadata": {},
   "outputs": [],
   "source": [
    "NAME = \"Cюй Mинчао\"\n",
    "GROUP = \"749512\""
   ]
  },
  {
   "cell_type": "code",
   "execution_count": null,
   "id": "87b12d07",
   "metadata": {},
   "outputs": [],
   "source": [
    "import uuid\n",
    "\n",
    "STUDENT_UUID = uuid.uuid4()\n",
    "print(f\"Your uuid is {STUDENT_UUID}\")"
   ]
  },
  {
   "cell_type": "markdown",
   "id": "d670c228",
   "metadata": {},
   "source": [
    "---"
   ]
  },
  {
   "cell_type": "markdown",
   "id": "eb9525d4",
   "metadata": {
    "deletable": false,
    "editable": false,
    "nbgrader": {
     "cell_type": "markdown",
     "checksum": "04299255a5a87006e24acd7bad23dc92",
     "grade": false,
     "grade_id": "cell-d892cf552738b8b8",
     "locked": true,
     "schema_version": 3,
     "solution": false,
     "task": false
    }
   },
   "source": [
    "# Приветствуем тебя, путник!\n",
    "\n",
    "Это первая контрольная работа с некоторыми вопросами по теме numpy, pandas и python."
   ]
  },
  {
   "cell_type": "code",
   "execution_count": null,
   "id": "b9261ee2",
   "metadata": {
    "deletable": false,
    "editable": false,
    "nbgrader": {
     "cell_type": "code",
     "checksum": "4b0c8af0c12eb2a7619ef3fb01eb0a67",
     "grade": false,
     "grade_id": "cell-7d71a45de0d5e0b5",
     "locked": true,
     "schema_version": 3,
     "solution": false,
     "task": false
    }
   },
   "outputs": [],
   "source": [
    "import numpy as np\n",
    "import pandas as pd\n",
    "\n",
    "np.random.seed(123)"
   ]
  },
  {
   "cell_type": "markdown",
   "id": "1d7bb314",
   "metadata": {
    "deletable": false,
    "editable": false,
    "nbgrader": {
     "cell_type": "markdown",
     "checksum": "c0a49999f33f72716f21b04bf40a0a13",
     "grade": false,
     "grade_id": "cell-4809c9fae0e97422",
     "locked": true,
     "schema_version": 3,
     "solution": false,
     "task": false
    }
   },
   "source": [
    "### Задание 1 (1 балл)\n",
    "\n",
    "Напишите код для разворачивания строки и приведения её к верхнему регистру. \n",
    "\n",
    "Например, на вход подаётся строка \"Привет\", на выходе - \"ТЕВИРП\"."
   ]
  },
  {
   "cell_type": "code",
   "execution_count": null,
   "id": "c6f794d5",
   "metadata": {
    "deletable": false,
    "nbgrader": {
     "cell_type": "code",
     "checksum": "aca71458a680fa3848a786601c2c4acb",
     "grade": false,
     "grade_id": "cell-69a75a6a9f247b59",
     "locked": false,
     "schema_version": 3,
     "solution": true,
     "task": false
    }
   },
   "outputs": [],
   "source": [
    "def reverse_string_tall_letters(string: str) -> str:\n",
    "    s2 = string.upper()\n",
    "    return s2[::-1]\n",
    "    # raise NotImplementedError()"
   ]
  },
  {
   "cell_type": "code",
   "execution_count": null,
   "id": "f4744e24",
   "metadata": {
    "deletable": false,
    "editable": false,
    "nbgrader": {
     "cell_type": "code",
     "checksum": "42ad229509b2ed21a73df287dc0ad54c",
     "grade": true,
     "grade_id": "cell-6c2c7d17e93c9be4",
     "locked": true,
     "points": 1,
     "schema_version": 3,
     "solution": false,
     "task": false
    }
   },
   "outputs": [
    {
     "ename": "NameError",
     "evalue": "name 'reverse_string_tall_letters' is not defined",
     "output_type": "error",
     "traceback": [
      "\u001b[1;31m---------------------------------------------------------------------------\u001b[0m",
      "\u001b[1;31mNameError\u001b[0m                                 Traceback (most recent call last)",
      "\u001b[1;32mC:\\Users\\MIKUSA~1\\AppData\\Local\\Temp/ipykernel_3708/1232275509.py\u001b[0m in \u001b[0;36m<module>\u001b[1;34m\u001b[0m\n\u001b[1;32m----> 1\u001b[1;33m \u001b[1;32massert\u001b[0m \u001b[0mlen\u001b[0m\u001b[1;33m(\u001b[0m\u001b[0mreverse_string_tall_letters\u001b[0m\u001b[1;33m(\u001b[0m\u001b[1;34m\"hi\"\u001b[0m\u001b[1;33m)\u001b[0m\u001b[1;33m)\u001b[0m \u001b[1;33m==\u001b[0m \u001b[1;36m2\u001b[0m\u001b[1;33m\u001b[0m\u001b[1;33m\u001b[0m\u001b[0m\n\u001b[0m\u001b[0;32m      2\u001b[0m \u001b[1;32massert\u001b[0m \u001b[0mreverse_string_tall_letters\u001b[0m\u001b[1;33m(\u001b[0m\u001b[1;34m\"x\"\u001b[0m\u001b[1;33m)\u001b[0m \u001b[1;33m==\u001b[0m \u001b[1;34m\"X\"\u001b[0m\u001b[1;33m\u001b[0m\u001b[1;33m\u001b[0m\u001b[0m\n\u001b[0;32m      3\u001b[0m \u001b[1;32massert\u001b[0m \u001b[0mreverse_string_tall_letters\u001b[0m\u001b[1;33m(\u001b[0m\u001b[1;34m\"\"\u001b[0m\u001b[1;33m)\u001b[0m \u001b[1;33m==\u001b[0m \u001b[1;34m\"\"\u001b[0m\u001b[1;33m\u001b[0m\u001b[1;33m\u001b[0m\u001b[0m\n\u001b[0;32m      4\u001b[0m \u001b[1;32massert\u001b[0m \u001b[0mreverse_string_tall_letters\u001b[0m\u001b[1;33m(\u001b[0m\u001b[1;34m\"Привет!\"\u001b[0m\u001b[1;33m)\u001b[0m \u001b[1;33m==\u001b[0m \u001b[1;34m\"!ТЕВИРП\"\u001b[0m\u001b[1;33m\u001b[0m\u001b[1;33m\u001b[0m\u001b[0m\n\u001b[0;32m      5\u001b[0m \u001b[1;33m\u001b[0m\u001b[0m\n",
      "\u001b[1;31mNameError\u001b[0m: name 'reverse_string_tall_letters' is not defined"
     ]
    }
   ],
   "source": [
    "assert len(reverse_string_tall_letters(\"hi\")) == 2 \n",
    "assert reverse_string_tall_letters(\"x\") == \"X\"\n",
    "assert reverse_string_tall_letters(\"\") == \"\"\n",
    "assert reverse_string_tall_letters(\"Привет!\") == \"!ТЕВИРП\"\n"
   ]
  },
  {
   "cell_type": "markdown",
   "id": "20a6694e",
   "metadata": {
    "deletable": false,
    "editable": false,
    "nbgrader": {
     "cell_type": "markdown",
     "checksum": "ded1348573194cdb49b14ae999b41424",
     "grade": false,
     "grade_id": "cell-362ed7f98738aaec",
     "locked": true,
     "schema_version": 3,
     "solution": false,
     "task": false
    }
   },
   "source": [
    "### Задание 2 (1 балл)\n",
    "\n",
    "Выведите уникальные значения из входного массива (матрицы)."
   ]
  },
  {
   "cell_type": "code",
   "execution_count": null,
   "id": "da61be9b",
   "metadata": {
    "deletable": false,
    "nbgrader": {
     "cell_type": "code",
     "checksum": "2f80c6e339b3302eaebfb4d0d3e9da29",
     "grade": false,
     "grade_id": "cell-a83f3275964bb308",
     "locked": false,
     "schema_version": 3,
     "solution": true,
     "task": false
    }
   },
   "outputs": [],
   "source": [
    "def get_unique_rows(matrix: np.ndarray) -> np.ndarray:\n",
    "    # YOUR CODE HERE\n",
    "    uniques=np.unique(matrix,axis=0)\n",
    "    return uniques\n",
    "    raise NotImplementedError()"
   ]
  },
  {
   "cell_type": "code",
   "execution_count": null,
   "id": "844a6807",
   "metadata": {
    "deletable": false,
    "editable": false,
    "nbgrader": {
     "cell_type": "code",
     "checksum": "a74d8499c7d2e1dd0b553ca5dda421ea",
     "grade": true,
     "grade_id": "cell-4d50a5c607725df3",
     "locked": true,
     "points": 1,
     "schema_version": 3,
     "solution": false,
     "task": false
    }
   },
   "outputs": [],
   "source": [
    "np.testing.assert_allclose(get_unique_rows(np.array([[1]])), [[1]])\n",
    "np.testing.assert_allclose(get_unique_rows(np.array([[1], [1], [1]])), [[1]])\n",
    "np.testing.assert_allclose(get_unique_rows(np.array([[1, 2], [1, 2], [2, 1]])), [[1, 2], [2, 1]])\n"
   ]
  },
  {
   "cell_type": "markdown",
   "id": "3c0e849d",
   "metadata": {
    "deletable": false,
    "editable": false,
    "nbgrader": {
     "cell_type": "markdown",
     "checksum": "8ef03bde3342ef908dfce7e805235d0c",
     "grade": false,
     "grade_id": "cell-d0f320211c1ccbcd",
     "locked": true,
     "schema_version": 3,
     "solution": false,
     "task": false
    }
   },
   "source": [
    "### Задание 3 (2 балла)\n",
    "\n",
    "Выведите N наименьших значений из массива (матрицы). \n",
    "\n",
    "> ⚠️ Если N больше, чем общее число элементов в массиве, то нужно вернуть весь исходный массив. "
   ]
  },
  {
   "cell_type": "code",
   "execution_count": null,
   "id": "acd12286",
   "metadata": {
    "deletable": false,
    "nbgrader": {
     "cell_type": "code",
     "checksum": "9450f5661b8e9bfd92896fcae84b78c3",
     "grade": false,
     "grade_id": "cell-d4aba3080a3cd06f",
     "locked": false,
     "schema_version": 3,
     "solution": true,
     "task": false
    }
   },
   "outputs": [],
   "source": [
    "def get_n_smallest(arr: np.ndarray, n: int) -> np.ndarray:\n",
    "    # YOUR CODE HERE\n",
    "    a = list(arr.reshape(-1))\n",
    "    a.sort()\n",
    "    if len(a)<=n:\n",
    "        return a\n",
    "    ans = []\n",
    "    for i in range(n):\n",
    "        ans.append(a[i])\n",
    "    return ans\n",
    "    raise NotImplementedError()"
   ]
  },
  {
   "cell_type": "code",
   "execution_count": null,
   "id": "8a3b6696",
   "metadata": {
    "deletable": false,
    "editable": false,
    "nbgrader": {
     "cell_type": "code",
     "checksum": "ce14299de4d19183b87840f844a9b37a",
     "grade": true,
     "grade_id": "cell-922af51c5bbde513",
     "locked": true,
     "points": 2,
     "schema_version": 3,
     "solution": false,
     "task": false
    }
   },
   "outputs": [],
   "source": [
    "assert len(get_n_smallest(np.array([2, 1, 3]), 1)) == 1\n",
    "np.testing.assert_allclose(get_n_smallest(np.zeros(5), 6), [0]*5)\n"
   ]
  },
  {
   "cell_type": "markdown",
   "id": "016fbe09",
   "metadata": {
    "deletable": false,
    "editable": false,
    "nbgrader": {
     "cell_type": "markdown",
     "checksum": "358275c927f287daf36f928af379654a",
     "grade": false,
     "grade_id": "cell-0c29ebdeb5d4ceb5",
     "locked": true,
     "schema_version": 3,
     "solution": false,
     "task": false
    }
   },
   "source": [
    "### Задание 4 (2 балла)\n",
    "\n",
    "Найдите самое часто повторяющееся число в массиве. \n",
    "\n",
    "> ⚠️ Обратите внимание на аннотацию функции! Важно привести (cast) к нужному типу результат"
   ]
  },
  {
   "cell_type": "code",
   "execution_count": null,
   "id": "a1bb6bef",
   "metadata": {
    "deletable": false,
    "nbgrader": {
     "cell_type": "code",
     "checksum": "d93e17b0ef2cf994ca74f376eaa3f0a3",
     "grade": false,
     "grade_id": "cell-db76e26eedba62d1",
     "locked": false,
     "schema_version": 3,
     "solution": true,
     "task": false
    }
   },
   "outputs": [],
   "source": [
    "def get_freq_value(arr: np.ndarray) -> float:\n",
    "    # YOUR CODE HERE\n",
    "    a = list(arr)\n",
    "    dir = {}\n",
    "    for aa in a:\n",
    "        if aa in dir.keys():\n",
    "            dir[aa]+=1\n",
    "        else:\n",
    "            dir[aa] = 1\n",
    "    max_key = 0\n",
    "    max_val = 0\n",
    "    for i in dir.keys():\n",
    "        if dir[i]>max_val:\n",
    "            max_key = i\n",
    "            max_val = dir[i]\n",
    "    return float(max_key)\n",
    "    raise NotImplementedError()"
   ]
  },
  {
   "cell_type": "code",
   "execution_count": null,
   "id": "a7da784b",
   "metadata": {
    "deletable": false,
    "editable": false,
    "nbgrader": {
     "cell_type": "code",
     "checksum": "152566c835766b61fdf26a5c32cc1503",
     "grade": true,
     "grade_id": "cell-6617d7118be7f720",
     "locked": true,
     "points": 2,
     "schema_version": 3,
     "solution": false,
     "task": false
    }
   },
   "outputs": [],
   "source": [
    "assert isinstance(get_freq_value(np.random.randint(0, 10, 10)), float)\n",
    "np.testing.assert_almost_equal(get_freq_value(np.array([1, 1])), 1.0)\n",
    "np.testing.assert_almost_equal(get_freq_value(np.array([1, 3, 2, 2])), 2.0)\n"
   ]
  },
  {
   "cell_type": "markdown",
   "id": "77c2e97b",
   "metadata": {
    "deletable": false,
    "editable": false,
    "nbgrader": {
     "cell_type": "markdown",
     "checksum": "1b57e2ef3405551e4873ff9de6724aad",
     "grade": false,
     "grade_id": "cell-6584d32b893c6288",
     "locked": true,
     "schema_version": 3,
     "solution": false,
     "task": false
    }
   },
   "source": [
    "### Задание 5 (1 балл)\n",
    "\n",
    "Преобразуйте два списка в pandas.Series, где первый списoк - это индексы, а второй - значения. "
   ]
  },
  {
   "cell_type": "code",
   "execution_count": null,
   "id": "47edbe17",
   "metadata": {
    "deletable": false,
    "nbgrader": {
     "cell_type": "code",
     "checksum": "6a21875f9e77e1fe0136a2d56b50d8e2",
     "grade": false,
     "grade_id": "cell-fa84a84ced474d2f",
     "locked": false,
     "schema_version": 3,
     "solution": true,
     "task": false
    }
   },
   "outputs": [],
   "source": [
    "def get_series(list_1: list, list_2: list) -> pd.Series:\n",
    "    # YOUR CODE HERE\n",
    "    s=pd.Series(list_2,list_1)\n",
    "    return s\n",
    "    raise NotImplementedError()"
   ]
  },
  {
   "cell_type": "code",
   "execution_count": null,
   "id": "eb170b7e",
   "metadata": {
    "deletable": false,
    "editable": false,
    "nbgrader": {
     "cell_type": "code",
     "checksum": "9438ab45b31b3728817da5b11464dfad",
     "grade": true,
     "grade_id": "cell-110c1c0a2650e2fa",
     "locked": true,
     "points": 1,
     "schema_version": 3,
     "solution": false,
     "task": false
    }
   },
   "outputs": [],
   "source": [
    "assert isinstance(get_series([\"a\"], [1]), pd.Series)\n",
    "np.testing.assert_allclose(get_series([\"a\"], [1]).shape, 1)\n",
    "pd.testing.assert_index_equal(get_series([\"a\", \"c\"], [1, 3]).index, pd.Index([\"a\", \"c\"]))\n",
    "np.testing.assert_allclose(get_series([\"a\", \"c\", \"1\"], [1, 4, 5]).values, [1, 4, 5])\n"
   ]
  },
  {
   "cell_type": "markdown",
   "id": "76df7310",
   "metadata": {
    "deletable": false,
    "editable": false,
    "nbgrader": {
     "cell_type": "markdown",
     "checksum": "b13a9af1c0855d818fddbbe36c7fa568",
     "grade": false,
     "grade_id": "cell-746d1fe6e22a28f5",
     "locked": true,
     "schema_version": 3,
     "solution": false,
     "task": false
    }
   },
   "source": [
    "### Задание 6 (3 балла)\n",
    "\n",
    "Разделите одну колонку со строками на 2 колонки с названиями \"STD\" и \"City\". \n",
    "\n",
    "> ⚠️ Обратите внимание, что первая строка не является данными, а названия городов не должно содержать пробелов!"
   ]
  },
  {
   "cell_type": "code",
   "execution_count": null,
   "id": "d236c3c1",
   "metadata": {
    "deletable": false,
    "nbgrader": {
     "cell_type": "code",
     "checksum": "e642238a10943c831fc3db3d45137751",
     "grade": false,
     "grade_id": "cell-58dc34e723ed3302",
     "locked": false,
     "schema_version": 3,
     "solution": true,
     "task": false
    }
   },
   "outputs": [],
   "source": [
    "def separate_columns(df: pd.DataFrame) -> pd.DataFrame: \n",
    "    # YOUR CODE HERE\n",
    "    df_list = list(df['row'])\n",
    "    for i in range(len(df_list)):\n",
    "        if i == 0:continue\n",
    "        df_list[i] = df_list[i].split(',')\n",
    "    return pd.DataFrame(df_list[1:],columns=['STD','City'])\n",
    "    raise NotImplementedError()"
   ]
  },
  {
   "cell_type": "code",
   "execution_count": null,
   "id": "1cb297fa",
   "metadata": {
    "deletable": false,
    "editable": false,
    "nbgrader": {
     "cell_type": "code",
     "checksum": "bdf7bb7fb012a900fbfd0731c2e694a8",
     "grade": true,
     "grade_id": "cell-ddbd80fb8adda273",
     "locked": true,
     "points": 3,
     "schema_version": 3,
     "solution": false,
     "task": false
    }
   },
   "outputs": [],
   "source": [
    "df = pd.DataFrame(\n",
    "    [\n",
    "        \"STD, City\",\n",
    "        \"33, Kolkata\",\n",
    "        \"44,Chennai\",\n",
    "        \"40, Hyderabad\",\n",
    "        \"80,Bangalore\",\n",
    "        \", TricksTown\"\n",
    "    ],\n",
    "    columns=['row']\n",
    ")\n",
    "df_result = separate_columns(df)\n",
    "\n",
    "assert isinstance(df_result, pd.DataFrame)\n",
    "assert set(df_result.columns) == set([\"STD\", \"City\"])\n",
    "np.testing.assert_allclose(df_result.shape, (5, 2))\n",
    "pd.testing.assert_series_equal(df_result.iloc[1], pd.Series([\"44\", \"Chennai\"]), check_index=False, check_names=False)\n"
   ]
  },
  {
   "cell_type": "markdown",
   "id": "fe55e292",
   "metadata": {
    "deletable": false,
    "editable": false,
    "nbgrader": {
     "cell_type": "markdown",
     "checksum": "49cf2b280caaecb9a4a66b62b9d46ef7",
     "grade": false,
     "grade_id": "cell-4363dd5e3a0a281e",
     "locked": true,
     "schema_version": 3,
     "solution": false,
     "task": false
    }
   },
   "source": [
    "### Задание 7 (2 балла)\n",
    "\n",
    "Выберите только те строки, в которых животное - это кошка, а возраст не меньше 2-х лет, не включая строки с NaN."
   ]
  },
  {
   "cell_type": "code",
   "execution_count": null,
   "id": "b7237945",
   "metadata": {
    "deletable": false,
    "nbgrader": {
     "cell_type": "code",
     "checksum": "c12d3915c5d995b6b27f9f9e15e98584",
     "grade": false,
     "grade_id": "cell-92c17c0ec05456d2",
     "locked": false,
     "schema_version": 3,
     "solution": true,
     "task": false
    }
   },
   "outputs": [],
   "source": [
    "def animals_selection(df: pd.DataFrame) -> pd.DataFrame:\n",
    "    # YOUR CODE HERE\n",
    "    ans = []\n",
    "    df_1 = df[\"animal\"].tolist()\n",
    "    df_2 = df['age'].tolist()\n",
    "    df_l = []\n",
    "    for j in range(len(df_1)):\n",
    "        df_l.append([df_1[j],df_2[j]])\n",
    "    for i in df_l:\n",
    "        if i[0] == None or i[1] == None:continue\n",
    "        if i[0] == 'cat' and int(i[1]>2):\n",
    "            ans.append(i)\n",
    "    df1 = pd.DataFrame(ans,columns=[\"animal\", \"age\"])\n",
    "    return df1\n",
    "    raise NotImplementedError()"
   ]
  },
  {
   "cell_type": "code",
   "execution_count": null,
   "id": "70992857",
   "metadata": {
    "deletable": false,
    "editable": false,
    "nbgrader": {
     "cell_type": "code",
     "checksum": "558172a81bed11688622bc83d7eb9c0b",
     "grade": true,
     "grade_id": "cell-2c583ee44d239300",
     "locked": true,
     "points": 2,
     "schema_version": 3,
     "solution": false,
     "task": false
    }
   },
   "outputs": [],
   "source": [
    "df = pd.DataFrame(\n",
    "    zip(['cat', np.nan, 'cat', 'dog', 'cat', 'dog'], [1.95, 2, 3, 0.5, np.nan, 5]),\n",
    "    columns=[\"animal\", \"age\"]\n",
    ")\n",
    "df_result = animals_selection(df)\n",
    "\n",
    "assert isinstance(df_result, pd.DataFrame)\n",
    "np.testing.assert_allclose(df_result.shape, (1, 2))\n",
    "np.testing.assert_allclose(df_result.age, [3])\n",
    "assert not (df_result.animal.isnull()).all()\n"
   ]
  },
  {
   "cell_type": "markdown",
   "id": "df9c560b",
   "metadata": {
    "deletable": false,
    "editable": false,
    "nbgrader": {
     "cell_type": "markdown",
     "checksum": "2d54ce09dc3660c08673559f93142324",
     "grade": false,
     "grade_id": "cell-fcfffa2402ff8f6c",
     "locked": true,
     "schema_version": 3,
     "solution": false,
     "task": false
    }
   },
   "source": [
    "### Задание 8 (2 балла)\n",
    "\n",
    "Напишите класс StatComputer, который имеет три метода:\n",
    "- метод mean_cols(), который возвращает среднее значение каждой колонки в виде массива значений\n",
    "- метод std_rows(), который возвращает стандартное отклонение каждой строки в виде массива значений\n",
    "- метод sum_full(), который возвращает сумму всех элементов массива в виде числа\n",
    "\n",
    "Конструктор класса должен принимать массив чисел и возвращать результаты вычислений по каждому методу."
   ]
  },
  {
   "cell_type": "code",
   "execution_count": null,
   "id": "d977ae6f",
   "metadata": {
    "deletable": false,
    "nbgrader": {
     "cell_type": "code",
     "checksum": "8577210d799c86e6d198467dd7222e16",
     "grade": false,
     "grade_id": "cell-955168e77c9346fa",
     "locked": false,
     "schema_version": 3,
     "solution": true,
     "task": false
    }
   },
   "outputs": [],
   "source": [
    "class StatComputer:\n",
    "    # YOUR CODE HERE\n",
    "    def __init__(self,data):\n",
    "        self.data = data\n",
    "    def mean_cols(self):\n",
    "        dataT = list(np.mean(self.data,axis=0))\n",
    "        return dataT\n",
    "    def std_rows(self):\n",
    "        ans = np.std(self.data,axis=1)\n",
    "        ans = list(ans.T)\n",
    "        return ans\n",
    "    def sum_full(self):\n",
    "        return sum(sum(self.data))\n",
    "    # raise NotImplementedError()"
   ]
  },
  {
   "cell_type": "code",
   "execution_count": null,
   "id": "ad362233",
   "metadata": {
    "deletable": false,
    "editable": false,
    "nbgrader": {
     "cell_type": "code",
     "checksum": "0fd775af0d346c56abbbfd9f98c9e181",
     "grade": true,
     "grade_id": "cell-d52d4a43af9134f9",
     "locked": true,
     "points": 2,
     "schema_version": 3,
     "solution": false,
     "task": false
    }
   },
   "outputs": [],
   "source": [
    "data = np.array([[3, 2, 3, 5, 5],\n",
    "                 [0, 8, 5, 7, 0],\n",
    "                 [6, 4, 3, 6, 3],\n",
    "                 [1, 7, 9, 8, 9]])\n",
    "stat_comp = StatComputer(data)\n",
    "\n",
    "np.testing.assert_almost_equal(stat_comp.mean_cols(), [2.5 , 5.25, 5., 6.5, 4.25])\n",
    "np.testing.assert_almost_equal(stat_comp.std_rows(), [1.2, 3.4058773, 1.356466, 2.9933259])\n",
    "np.testing.assert_almost_equal(stat_comp.sum_full(), 94)\n"
   ]
  },
  {
   "cell_type": "markdown",
   "id": "d7381fde",
   "metadata": {
    "deletable": false,
    "editable": false,
    "nbgrader": {
     "cell_type": "markdown",
     "checksum": "c1c0ae95d05a6ab2968d5362d6cb69b3",
     "grade": false,
     "grade_id": "cell-d7b6bbf03fca2f5b",
     "locked": true,
     "schema_version": 3,
     "solution": false,
     "task": false
    }
   },
   "source": [
    "### Задание 9 (3 балла)\n",
    "\n",
    "Напишите функцию, которая вернет количество столбцов с медианным значением больше задаваемого порога `threshold` после матричного умножения матриц `mul1` и `mul2`.\n",
    "\n",
    "> ⚠️ Главное, вспомните, что такое \"матричное умножение\""
   ]
  },
  {
   "cell_type": "code",
   "execution_count": null,
   "id": "95ffb110",
   "metadata": {
    "deletable": false,
    "nbgrader": {
     "cell_type": "code",
     "checksum": "63b49fd47103a4580ffc380b8bc3071a",
     "grade": false,
     "grade_id": "cell-4941db9c0f636e2b",
     "locked": false,
     "schema_version": 3,
     "solution": true,
     "task": false
    }
   },
   "outputs": [],
   "source": [
    "def high_median_n_cols_after_matrix_multiplication(mul1: np.array, mul2: np.array, threshold: float) -> int:\n",
    "    # YOUR CODE HERE\n",
    "    c = np.matmul(mul1, mul2)\n",
    "    zhon = list(np.median(c,axis=0))\n",
    "    ans = 0\n",
    "    for z in zhon:\n",
    "        if z>threshold:\n",
    "            ans+=1\n",
    "    return ans\n",
    "    # raise NotImplementedError()"
   ]
  },
  {
   "cell_type": "code",
   "execution_count": null,
   "id": "3c47740f",
   "metadata": {
    "deletable": false,
    "editable": false,
    "nbgrader": {
     "cell_type": "code",
     "checksum": "ac57bf4d4c258abdc7ffc14498e0809e",
     "grade": true,
     "grade_id": "cell-1b72bf4632ef61bc",
     "locked": true,
     "points": 3,
     "schema_version": 3,
     "solution": false,
     "task": false
    }
   },
   "outputs": [],
   "source": [
    "# Test 1\n",
    "x1 = np.array([[5, 6, 4],\n",
    "               [0, 5, 0]])\n",
    "x2 = np.array([[6, 2],\n",
    "               [8, 0],\n",
    "               [1, 7]])\n",
    "result = high_median_n_cols_after_matrix_multiplication(x1, x2, threshold=30)\n",
    "\n",
    "np.testing.assert_equal(result, 1)\n",
    "\n",
    "# Test 2\n",
    "x1 = np.array([[11,  3],\n",
    "               [ 7, 13],\n",
    "               [ 8,  8],\n",
    "               [ 3,  2],\n",
    "               [11,  5]])\n",
    "x2 = np.array([[12,  5,  3,  3],\n",
    "               [13,  1,  0,  9]])\n",
    "result = high_median_n_cols_after_matrix_multiplication(x1, x2, threshold=40)\n",
    "\n",
    "np.testing.assert_equal(result, 3)\n"
   ]
  },
  {
   "cell_type": "markdown",
   "id": "31d0500e",
   "metadata": {
    "deletable": false,
    "editable": false,
    "nbgrader": {
     "cell_type": "markdown",
     "checksum": "2e51f5c7516f054d799f01df8f6f8c1d",
     "grade": false,
     "grade_id": "cell-988778783ea66b84",
     "locked": true,
     "schema_version": 3,
     "solution": false,
     "task": false
    }
   },
   "source": [
    "### Задание 10 (1 балл)\n",
    "\n",
    "Опишите `broadcasting` механизм во фреймворке `numpy`. Приведите примеры.\n",
    "\n",
    "> Для примеров кода можно использовать конструкцию внутри markdown ячеек:\n",
    "\n",
    "```python\n",
    "def code_sample():\n",
    "    pass\n",
    "```\n",
    "\n",
    "Или создавать ячейки с кодом и писать в них."
   ]
  },
  {
   "cell_type": "markdown",
   "id": "f79d3c82",
   "metadata": {
    "deletable": false,
    "nbgrader": {
     "cell_type": "markdown",
     "checksum": "1bc7b4c4af63274984b19ee64e462556",
     "grade": true,
     "grade_id": "cell-37ca0151f6ea53e2",
     "locked": false,
     "points": 1,
     "schema_version": 3,
     "solution": true,
     "task": false
    }
   },
   "source": [
    "YOUR ANSWER HERE"
   ]
  },
  {
   "cell_type": "code",
   "execution_count": null,
   "id": "17a65f0f",
   "metadata": {},
   "outputs": [],
   "source": [
    "import numpy as np\n",
    "A = np.array([[56.0, 0.0, 4.4, 68.0],\n",
    "[1.2, 104.0, 52.0, 8.0],\n",
    "[1.8, 135.0, 99.0, 0.9]])\n",
    "\n",
    "cal = np.sum(A,axis=0)\n",
    "percent = A/cal\n",
    "print(percent)"
   ]
  }
 ],
 "metadata": {
  "kernelspec": {
   "display_name": "Python 3.10.8 64-bit",
   "language": "python",
   "name": "python3"
  },
  "language_info": {
   "codemirror_mode": {
    "name": "ipython",
    "version": 3
   },
   "file_extension": ".py",
   "mimetype": "text/x-python",
   "name": "python",
   "nbconvert_exporter": "python",
   "pygments_lexer": "ipython3",
   "version": "3.10.8"
  },
  "vscode": {
   "interpreter": {
    "hash": "78f5b707d86fd9281530b9fa2dbdbe1b33232c3b651a8e052360c651d4996094"
   }
  }
 },
 "nbformat": 4,
 "nbformat_minor": 5
}
